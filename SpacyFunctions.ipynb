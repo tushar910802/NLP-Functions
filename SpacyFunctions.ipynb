{
  "nbformat": 4,
  "nbformat_minor": 0,
  "metadata": {
    "colab": {
      "name": "Untitled3.ipynb",
      "provenance": [],
      "include_colab_link": true
    },
    "kernelspec": {
      "name": "python3",
      "display_name": "Python 3"
    },
    "language_info": {
      "name": "python"
    }
  },
  "cells": [
    {
      "cell_type": "markdown",
      "metadata": {
        "id": "view-in-github",
        "colab_type": "text"
      },
      "source": [
        "<a href=\"https://colab.research.google.com/github/tushar910802/NLP-Functions/blob/main/SpacyFunctions.ipynb\" target=\"_parent\"><img src=\"https://colab.research.google.com/assets/colab-badge.svg\" alt=\"Open In Colab\"/></a>"
      ]
    },
    {
      "cell_type": "code",
      "metadata": {
        "id": "RWGZD-WKiPJN"
      },
      "source": [
        "import spacy\n",
        "from spacy import displacy\n",
        "from spacy.symbols import (\n",
        "    AUX, VERB, NOUN,\n",
        "    agent, attr, aux, auxpass, csubj, csubjpass, dobj, neg, nsubj, nsubjpass, obj, pobj, xcomp,\n",
        ")\n",
        "from spacy.tokens import Doc, Span, Token\n",
        "\n",
        "from typing import Iterable, List, Optional, Pattern, Tuple\n",
        "\n",
        "import pandas as pd\n",
        "\n",
        "from nltk import Tree\n",
        "from operator import attrgetter"
      ],
      "execution_count": null,
      "outputs": []
    },
    {
      "cell_type": "code",
      "metadata": {
        "id": "fWUO8NBoiQ4w"
      },
      "source": [
        "nlp = spacy.load('en_core_web_sm')"
      ],
      "execution_count": null,
      "outputs": []
    },
    {
      "cell_type": "code",
      "metadata": {
        "id": "2ju_RWokpB9G"
      },
      "source": [
        "_NOMINAL_SUBJ_DEPS = {nsubj, nsubjpass}        ## Used in svo triple eg - Anita was driven\n",
        "_CLAUSAL_SUBJ_DEPS = {csubj, csubjpass}       ## Used in svo triple \n",
        "_ACTIVE_SUBJ_DEPS = {csubj, nsubj}           ## Used in extract_quotation to find speaker \n",
        "_VERB_MODIFIER_DEPS = {aux, auxpass, neg}    ## eg - shall not be entitled  Used in expand_verb"
      ],
      "execution_count": null,
      "outputs": []
    },
    {
      "cell_type": "code",
      "metadata": {
        "id": "n4NyZPRum60h"
      },
      "source": [
        "def display_nlp(doc, include_punct=False):\n",
        "    \"\"\"Generate data frame for visualization of spaCy tokens.\"\"\"\n",
        "    rows = []\n",
        "    for i, t in enumerate(doc):\n",
        "\n",
        "        row = {'token': i, 'text': t.text, 'lemma_': t.lemma_,\n",
        "         'tag_': t.tag_,\n",
        "        'pos_': t.pos_, 'dep_': t.dep_,\n",
        "        'ent_type_': t.ent_type_, 'ent_iob_': t.ent_iob_,\n",
        "              'is_title':t.is_title}\n",
        "        rows.append(row)\n",
        "    df = pd.DataFrame(rows).set_index('token')\n",
        "    df.index.name = None\n",
        "    pd.set_option('display.max_rows', None)  # or 1000\n",
        "    return df"
      ],
      "execution_count": null,
      "outputs": []
    },
    {
      "cell_type": "code",
      "metadata": {
        "id": "-EJF0Vg2ndo2"
      },
      "source": [
        "def to_nltk_tree(node):\n",
        "    if node.n_lefts + node.n_rights > 0:\n",
        "        return Tree(node.orth_, [to_nltk_tree(child) for child in node.children])\n",
        "    else:\n",
        "        return node.orth_"
      ],
      "execution_count": null,
      "outputs": []
    },
    {
      "cell_type": "code",
      "metadata": {
        "id": "GCP_eOs9nfWW"
      },
      "source": [
        "def expand_noun(tok: Token) -> List[Token]:\n",
        "    \"\"\"Expand a noun token to include all associated conjunct and compound nouns.\"\"\"\n",
        "    tok_and_conjuncts = [tok] + list(tok.conjuncts)\n",
        "    compounds = [child for tc in tok_and_conjuncts for child in tc.children\n",
        "        # TODO: why doesn't compound import from spacy.symbols?\n",
        "        if child.dep_ == \"compound\"\n",
        "    ]\n",
        "    return tok_and_conjuncts + compounds\n",
        "\n",
        "\n",
        "def expand_verb(tok: Token) -> List[Token]:\n",
        "    \"\"\"Expand a verb token to include all associated auxiliary and negation tokens.\"\"\"\n",
        "    verb_modifiers = [\n",
        "        child for child in tok.children if child.dep in _VERB_MODIFIER_DEPS\n",
        "    ]\n",
        "    return [tok] + verb_modifiers\n"
      ],
      "execution_count": null,
      "outputs": []
    },
    {
      "cell_type": "code",
      "metadata": {
        "id": "u6tXWOyHnh-4"
      },
      "source": [
        "text = 'The building landlord shall not be permitted to do a construction in the rented premises.'\n",
        "doc = nlp(text)"
      ],
      "execution_count": null,
      "outputs": []
    },
    {
      "cell_type": "code",
      "metadata": {
        "id": "U9Y7eTgzoUXg",
        "colab": {
          "base_uri": "https://localhost:8080/"
        },
        "outputId": "65b22574-2bd5-481e-91f8-2c4a0f488502"
      },
      "source": [
        "[to_nltk_tree(sent.root).pretty_print() for sent in doc.sents]"
      ],
      "execution_count": null,
      "outputs": [
        {
          "output_type": "stream",
          "text": [
            "                  permitted                                                           \n",
            "   ___________________|________________________________                                \n",
            "  |    |   |   |               |                       do                             \n",
            "  |    |   |   |               |                _______|_______                        \n",
            "  |    |   |   |               |               |          construction                \n",
            "  |    |   |   |               |               |    ___________|__________             \n",
            "  |    |   |   |               |               |   |                      in          \n",
            "  |    |   |   |               |               |   |                      |            \n",
            "  |    |   |   |            landlord           |   |                   premises       \n",
            "  |    |   |   |       ________|________       |   |            __________|_______     \n",
            "shall not  be  .     The             building  to  a          the               rented\n",
            "\n"
          ],
          "name": "stdout"
        },
        {
          "output_type": "execute_result",
          "data": {
            "text/plain": [
              "[None]"
            ]
          },
          "metadata": {
            "tags": []
          },
          "execution_count": 54
        }
      ]
    },
    {
      "cell_type": "code",
      "metadata": {
        "id": "hFD3IENaoXXz",
        "colab": {
          "base_uri": "https://localhost:8080/",
          "height": 86
        },
        "outputId": "0d416589-e0d3-4d94-82d3-7c22fc662014"
      },
      "source": [
        "displacy.render(doc)"
      ],
      "execution_count": null,
      "outputs": [
        {
          "output_type": "execute_result",
          "data": {
            "application/vnd.google.colaboratory.intrinsic+json": {
              "type": "string"
            },
            "text/plain": [
              "'<svg xmlns=\"http://www.w3.org/2000/svg\" xmlns:xlink=\"http://www.w3.org/1999/xlink\" xml:lang=\"en\" id=\"b3b920cc3f214b41b46831e3b905b263-0\" class=\"displacy\" width=\"2675\" height=\"487.0\" direction=\"ltr\" style=\"max-width: none; height: 487.0px; color: #000000; background: #ffffff; font-family: Arial; direction: ltr\">\\n<text class=\"displacy-token\" fill=\"currentColor\" text-anchor=\"middle\" y=\"397.0\">\\n    <tspan class=\"displacy-word\" fill=\"currentColor\" x=\"50\">The</tspan>\\n    <tspan class=\"displacy-tag\" dy=\"2em\" fill=\"currentColor\" x=\"50\">DET</tspan>\\n</text>\\n\\n<text class=\"displacy-token\" fill=\"currentColor\" text-anchor=\"middle\" y=\"397.0\">\\n    <tspan class=\"displacy-word\" fill=\"currentColor\" x=\"225\">building</tspan>\\n    <tspan class=\"displacy-tag\" dy=\"2em\" fill=\"currentColor\" x=\"225\">NOUN</tspan>\\n</text>\\n\\n<text class=\"displacy-token\" fill=\"currentColor\" text-anchor=\"middle\" y=\"397.0\">\\n    <tspan class=\"displacy-word\" fill=\"currentColor\" x=\"400\">landlord</tspan>\\n    <tspan class=\"displacy-tag\" dy=\"2em\" fill=\"currentColor\" x=\"400\">NOUN</tspan>\\n</text>\\n\\n<text class=\"displacy-token\" fill=\"currentColor\" text-anchor=\"middle\" y=\"397.0\">\\n    <tspan class=\"displacy-word\" fill=\"currentColor\" x=\"575\">shall</tspan>\\n    <tspan class=\"displacy-tag\" dy=\"2em\" fill=\"currentColor\" x=\"575\">VERB</tspan>\\n</text>\\n\\n<text class=\"displacy-token\" fill=\"currentColor\" text-anchor=\"middle\" y=\"397.0\">\\n    <tspan class=\"displacy-word\" fill=\"currentColor\" x=\"750\">not</tspan>\\n    <tspan class=\"displacy-tag\" dy=\"2em\" fill=\"currentColor\" x=\"750\">PART</tspan>\\n</text>\\n\\n<text class=\"displacy-token\" fill=\"currentColor\" text-anchor=\"middle\" y=\"397.0\">\\n    <tspan class=\"displacy-word\" fill=\"currentColor\" x=\"925\">be</tspan>\\n    <tspan class=\"displacy-tag\" dy=\"2em\" fill=\"currentColor\" x=\"925\">AUX</tspan>\\n</text>\\n\\n<text class=\"displacy-token\" fill=\"currentColor\" text-anchor=\"middle\" y=\"397.0\">\\n    <tspan class=\"displacy-word\" fill=\"currentColor\" x=\"1100\">permitted</tspan>\\n    <tspan class=\"displacy-tag\" dy=\"2em\" fill=\"currentColor\" x=\"1100\">VERB</tspan>\\n</text>\\n\\n<text class=\"displacy-token\" fill=\"currentColor\" text-anchor=\"middle\" y=\"397.0\">\\n    <tspan class=\"displacy-word\" fill=\"currentColor\" x=\"1275\">to</tspan>\\n    <tspan class=\"displacy-tag\" dy=\"2em\" fill=\"currentColor\" x=\"1275\">PART</tspan>\\n</text>\\n\\n<text class=\"displacy-token\" fill=\"currentColor\" text-anchor=\"middle\" y=\"397.0\">\\n    <tspan class=\"displacy-word\" fill=\"currentColor\" x=\"1450\">do</tspan>\\n    <tspan class=\"displacy-tag\" dy=\"2em\" fill=\"currentColor\" x=\"1450\">AUX</tspan>\\n</text>\\n\\n<text class=\"displacy-token\" fill=\"currentColor\" text-anchor=\"middle\" y=\"397.0\">\\n    <tspan class=\"displacy-word\" fill=\"currentColor\" x=\"1625\">a</tspan>\\n    <tspan class=\"displacy-tag\" dy=\"2em\" fill=\"currentColor\" x=\"1625\">DET</tspan>\\n</text>\\n\\n<text class=\"displacy-token\" fill=\"currentColor\" text-anchor=\"middle\" y=\"397.0\">\\n    <tspan class=\"displacy-word\" fill=\"currentColor\" x=\"1800\">construction</tspan>\\n    <tspan class=\"displacy-tag\" dy=\"2em\" fill=\"currentColor\" x=\"1800\">NOUN</tspan>\\n</text>\\n\\n<text class=\"displacy-token\" fill=\"currentColor\" text-anchor=\"middle\" y=\"397.0\">\\n    <tspan class=\"displacy-word\" fill=\"currentColor\" x=\"1975\">in</tspan>\\n    <tspan class=\"displacy-tag\" dy=\"2em\" fill=\"currentColor\" x=\"1975\">ADP</tspan>\\n</text>\\n\\n<text class=\"displacy-token\" fill=\"currentColor\" text-anchor=\"middle\" y=\"397.0\">\\n    <tspan class=\"displacy-word\" fill=\"currentColor\" x=\"2150\">the</tspan>\\n    <tspan class=\"displacy-tag\" dy=\"2em\" fill=\"currentColor\" x=\"2150\">DET</tspan>\\n</text>\\n\\n<text class=\"displacy-token\" fill=\"currentColor\" text-anchor=\"middle\" y=\"397.0\">\\n    <tspan class=\"displacy-word\" fill=\"currentColor\" x=\"2325\">rented</tspan>\\n    <tspan class=\"displacy-tag\" dy=\"2em\" fill=\"currentColor\" x=\"2325\">VERB</tspan>\\n</text>\\n\\n<text class=\"displacy-token\" fill=\"currentColor\" text-anchor=\"middle\" y=\"397.0\">\\n    <tspan class=\"displacy-word\" fill=\"currentColor\" x=\"2500\">premises.</tspan>\\n    <tspan class=\"displacy-tag\" dy=\"2em\" fill=\"currentColor\" x=\"2500\">NOUN</tspan>\\n</text>\\n\\n<g class=\"displacy-arrow\">\\n    <path class=\"displacy-arc\" id=\"arrow-b3b920cc3f214b41b46831e3b905b263-0-0\" stroke-width=\"2px\" d=\"M70,352.0 C70,177.0 390.0,177.0 390.0,352.0\" fill=\"none\" stroke=\"currentColor\"/>\\n    <text dy=\"1.25em\" style=\"font-size: 0.8em; letter-spacing: 1px\">\\n        <textPath xlink:href=\"#arrow-b3b920cc3f214b41b46831e3b905b263-0-0\" class=\"displacy-label\" startOffset=\"50%\" side=\"left\" fill=\"currentColor\" text-anchor=\"middle\">det</textPath>\\n    </text>\\n    <path class=\"displacy-arrowhead\" d=\"M70,354.0 L62,342.0 78,342.0\" fill=\"currentColor\"/>\\n</g>\\n\\n<g class=\"displacy-arrow\">\\n    <path class=\"displacy-arc\" id=\"arrow-b3b920cc3f214b41b46831e3b905b263-0-1\" stroke-width=\"2px\" d=\"M245,352.0 C245,264.5 385.0,264.5 385.0,352.0\" fill=\"none\" stroke=\"currentColor\"/>\\n    <text dy=\"1.25em\" style=\"font-size: 0.8em; letter-spacing: 1px\">\\n        <textPath xlink:href=\"#arrow-b3b920cc3f214b41b46831e3b905b263-0-1\" class=\"displacy-label\" startOffset=\"50%\" side=\"left\" fill=\"currentColor\" text-anchor=\"middle\">compound</textPath>\\n    </text>\\n    <path class=\"displacy-arrowhead\" d=\"M245,354.0 L237,342.0 253,342.0\" fill=\"currentColor\"/>\\n</g>\\n\\n<g class=\"displacy-arrow\">\\n    <path class=\"displacy-arc\" id=\"arrow-b3b920cc3f214b41b46831e3b905b263-0-2\" stroke-width=\"2px\" d=\"M420,352.0 C420,2.0 1100.0,2.0 1100.0,352.0\" fill=\"none\" stroke=\"currentColor\"/>\\n    <text dy=\"1.25em\" style=\"font-size: 0.8em; letter-spacing: 1px\">\\n        <textPath xlink:href=\"#arrow-b3b920cc3f214b41b46831e3b905b263-0-2\" class=\"displacy-label\" startOffset=\"50%\" side=\"left\" fill=\"currentColor\" text-anchor=\"middle\">nsubjpass</textPath>\\n    </text>\\n    <path class=\"displacy-arrowhead\" d=\"M420,354.0 L412,342.0 428,342.0\" fill=\"currentColor\"/>\\n</g>\\n\\n<g class=\"displacy-arrow\">\\n    <path class=\"displacy-arc\" id=\"arrow-b3b920cc3f214b41b46831e3b905b263-0-3\" stroke-width=\"2px\" d=\"M595,352.0 C595,89.5 1095.0,89.5 1095.0,352.0\" fill=\"none\" stroke=\"currentColor\"/>\\n    <text dy=\"1.25em\" style=\"font-size: 0.8em; letter-spacing: 1px\">\\n        <textPath xlink:href=\"#arrow-b3b920cc3f214b41b46831e3b905b263-0-3\" class=\"displacy-label\" startOffset=\"50%\" side=\"left\" fill=\"currentColor\" text-anchor=\"middle\">aux</textPath>\\n    </text>\\n    <path class=\"displacy-arrowhead\" d=\"M595,354.0 L587,342.0 603,342.0\" fill=\"currentColor\"/>\\n</g>\\n\\n<g class=\"displacy-arrow\">\\n    <path class=\"displacy-arc\" id=\"arrow-b3b920cc3f214b41b46831e3b905b263-0-4\" stroke-width=\"2px\" d=\"M770,352.0 C770,177.0 1090.0,177.0 1090.0,352.0\" fill=\"none\" stroke=\"currentColor\"/>\\n    <text dy=\"1.25em\" style=\"font-size: 0.8em; letter-spacing: 1px\">\\n        <textPath xlink:href=\"#arrow-b3b920cc3f214b41b46831e3b905b263-0-4\" class=\"displacy-label\" startOffset=\"50%\" side=\"left\" fill=\"currentColor\" text-anchor=\"middle\">neg</textPath>\\n    </text>\\n    <path class=\"displacy-arrowhead\" d=\"M770,354.0 L762,342.0 778,342.0\" fill=\"currentColor\"/>\\n</g>\\n\\n<g class=\"displacy-arrow\">\\n    <path class=\"displacy-arc\" id=\"arrow-b3b920cc3f214b41b46831e3b905b263-0-5\" stroke-width=\"2px\" d=\"M945,352.0 C945,264.5 1085.0,264.5 1085.0,352.0\" fill=\"none\" stroke=\"currentColor\"/>\\n    <text dy=\"1.25em\" style=\"font-size: 0.8em; letter-spacing: 1px\">\\n        <textPath xlink:href=\"#arrow-b3b920cc3f214b41b46831e3b905b263-0-5\" class=\"displacy-label\" startOffset=\"50%\" side=\"left\" fill=\"currentColor\" text-anchor=\"middle\">auxpass</textPath>\\n    </text>\\n    <path class=\"displacy-arrowhead\" d=\"M945,354.0 L937,342.0 953,342.0\" fill=\"currentColor\"/>\\n</g>\\n\\n<g class=\"displacy-arrow\">\\n    <path class=\"displacy-arc\" id=\"arrow-b3b920cc3f214b41b46831e3b905b263-0-6\" stroke-width=\"2px\" d=\"M1295,352.0 C1295,264.5 1435.0,264.5 1435.0,352.0\" fill=\"none\" stroke=\"currentColor\"/>\\n    <text dy=\"1.25em\" style=\"font-size: 0.8em; letter-spacing: 1px\">\\n        <textPath xlink:href=\"#arrow-b3b920cc3f214b41b46831e3b905b263-0-6\" class=\"displacy-label\" startOffset=\"50%\" side=\"left\" fill=\"currentColor\" text-anchor=\"middle\">aux</textPath>\\n    </text>\\n    <path class=\"displacy-arrowhead\" d=\"M1295,354.0 L1287,342.0 1303,342.0\" fill=\"currentColor\"/>\\n</g>\\n\\n<g class=\"displacy-arrow\">\\n    <path class=\"displacy-arc\" id=\"arrow-b3b920cc3f214b41b46831e3b905b263-0-7\" stroke-width=\"2px\" d=\"M1120,352.0 C1120,177.0 1440.0,177.0 1440.0,352.0\" fill=\"none\" stroke=\"currentColor\"/>\\n    <text dy=\"1.25em\" style=\"font-size: 0.8em; letter-spacing: 1px\">\\n        <textPath xlink:href=\"#arrow-b3b920cc3f214b41b46831e3b905b263-0-7\" class=\"displacy-label\" startOffset=\"50%\" side=\"left\" fill=\"currentColor\" text-anchor=\"middle\">xcomp</textPath>\\n    </text>\\n    <path class=\"displacy-arrowhead\" d=\"M1440.0,354.0 L1448.0,342.0 1432.0,342.0\" fill=\"currentColor\"/>\\n</g>\\n\\n<g class=\"displacy-arrow\">\\n    <path class=\"displacy-arc\" id=\"arrow-b3b920cc3f214b41b46831e3b905b263-0-8\" stroke-width=\"2px\" d=\"M1645,352.0 C1645,264.5 1785.0,264.5 1785.0,352.0\" fill=\"none\" stroke=\"currentColor\"/>\\n    <text dy=\"1.25em\" style=\"font-size: 0.8em; letter-spacing: 1px\">\\n        <textPath xlink:href=\"#arrow-b3b920cc3f214b41b46831e3b905b263-0-8\" class=\"displacy-label\" startOffset=\"50%\" side=\"left\" fill=\"currentColor\" text-anchor=\"middle\">det</textPath>\\n    </text>\\n    <path class=\"displacy-arrowhead\" d=\"M1645,354.0 L1637,342.0 1653,342.0\" fill=\"currentColor\"/>\\n</g>\\n\\n<g class=\"displacy-arrow\">\\n    <path class=\"displacy-arc\" id=\"arrow-b3b920cc3f214b41b46831e3b905b263-0-9\" stroke-width=\"2px\" d=\"M1470,352.0 C1470,177.0 1790.0,177.0 1790.0,352.0\" fill=\"none\" stroke=\"currentColor\"/>\\n    <text dy=\"1.25em\" style=\"font-size: 0.8em; letter-spacing: 1px\">\\n        <textPath xlink:href=\"#arrow-b3b920cc3f214b41b46831e3b905b263-0-9\" class=\"displacy-label\" startOffset=\"50%\" side=\"left\" fill=\"currentColor\" text-anchor=\"middle\">dobj</textPath>\\n    </text>\\n    <path class=\"displacy-arrowhead\" d=\"M1790.0,354.0 L1798.0,342.0 1782.0,342.0\" fill=\"currentColor\"/>\\n</g>\\n\\n<g class=\"displacy-arrow\">\\n    <path class=\"displacy-arc\" id=\"arrow-b3b920cc3f214b41b46831e3b905b263-0-10\" stroke-width=\"2px\" d=\"M1820,352.0 C1820,264.5 1960.0,264.5 1960.0,352.0\" fill=\"none\" stroke=\"currentColor\"/>\\n    <text dy=\"1.25em\" style=\"font-size: 0.8em; letter-spacing: 1px\">\\n        <textPath xlink:href=\"#arrow-b3b920cc3f214b41b46831e3b905b263-0-10\" class=\"displacy-label\" startOffset=\"50%\" side=\"left\" fill=\"currentColor\" text-anchor=\"middle\">prep</textPath>\\n    </text>\\n    <path class=\"displacy-arrowhead\" d=\"M1960.0,354.0 L1968.0,342.0 1952.0,342.0\" fill=\"currentColor\"/>\\n</g>\\n\\n<g class=\"displacy-arrow\">\\n    <path class=\"displacy-arc\" id=\"arrow-b3b920cc3f214b41b46831e3b905b263-0-11\" stroke-width=\"2px\" d=\"M2170,352.0 C2170,177.0 2490.0,177.0 2490.0,352.0\" fill=\"none\" stroke=\"currentColor\"/>\\n    <text dy=\"1.25em\" style=\"font-size: 0.8em; letter-spacing: 1px\">\\n        <textPath xlink:href=\"#arrow-b3b920cc3f214b41b46831e3b905b263-0-11\" class=\"displacy-label\" startOffset=\"50%\" side=\"left\" fill=\"currentColor\" text-anchor=\"middle\">det</textPath>\\n    </text>\\n    <path class=\"displacy-arrowhead\" d=\"M2170,354.0 L2162,342.0 2178,342.0\" fill=\"currentColor\"/>\\n</g>\\n\\n<g class=\"displacy-arrow\">\\n    <path class=\"displacy-arc\" id=\"arrow-b3b920cc3f214b41b46831e3b905b263-0-12\" stroke-width=\"2px\" d=\"M2345,352.0 C2345,264.5 2485.0,264.5 2485.0,352.0\" fill=\"none\" stroke=\"currentColor\"/>\\n    <text dy=\"1.25em\" style=\"font-size: 0.8em; letter-spacing: 1px\">\\n        <textPath xlink:href=\"#arrow-b3b920cc3f214b41b46831e3b905b263-0-12\" class=\"displacy-label\" startOffset=\"50%\" side=\"left\" fill=\"currentColor\" text-anchor=\"middle\">amod</textPath>\\n    </text>\\n    <path class=\"displacy-arrowhead\" d=\"M2345,354.0 L2337,342.0 2353,342.0\" fill=\"currentColor\"/>\\n</g>\\n\\n<g class=\"displacy-arrow\">\\n    <path class=\"displacy-arc\" id=\"arrow-b3b920cc3f214b41b46831e3b905b263-0-13\" stroke-width=\"2px\" d=\"M1995,352.0 C1995,89.5 2495.0,89.5 2495.0,352.0\" fill=\"none\" stroke=\"currentColor\"/>\\n    <text dy=\"1.25em\" style=\"font-size: 0.8em; letter-spacing: 1px\">\\n        <textPath xlink:href=\"#arrow-b3b920cc3f214b41b46831e3b905b263-0-13\" class=\"displacy-label\" startOffset=\"50%\" side=\"left\" fill=\"currentColor\" text-anchor=\"middle\">pobj</textPath>\\n    </text>\\n    <path class=\"displacy-arrowhead\" d=\"M2495.0,354.0 L2503.0,342.0 2487.0,342.0\" fill=\"currentColor\"/>\\n</g>\\n</svg>'"
            ]
          },
          "metadata": {
            "tags": []
          },
          "execution_count": 55
        }
      ]
    },
    {
      "cell_type": "code",
      "metadata": {
        "id": "4-MwRiuDo0S_",
        "colab": {
          "base_uri": "https://localhost:8080/"
        },
        "outputId": "87efe759-cc33-4300-f2c7-9f31a4f163d7"
      },
      "source": [
        "for token in doc:\n",
        "    if token.pos == NOUN:\n",
        "        print(token)\n",
        "        noun = sorted(expand_noun(token),key=attrgetter('i'))\n",
        "        print(noun)\n",
        "        print('---------------------------------------------')\n",
        "    if token.pos == VERB:\n",
        "        print(token)\n",
        "        verb=sorted(expand_verb(token), key=attrgetter(\"i\"))\n",
        "        print(verb)\n",
        "        print('=============================================')"
      ],
      "execution_count": null,
      "outputs": [
        {
          "output_type": "stream",
          "text": [
            "building\n",
            "[building]\n",
            "---------------------------------------------\n",
            "landlord\n",
            "[building, landlord]\n",
            "---------------------------------------------\n",
            "shall\n",
            "[shall]\n",
            "=============================================\n",
            "permitted\n",
            "[shall, not, be, permitted]\n",
            "=============================================\n",
            "construction\n",
            "[construction]\n",
            "---------------------------------------------\n",
            "rented\n",
            "[rented]\n",
            "=============================================\n",
            "premises\n",
            "[premises]\n",
            "---------------------------------------------\n"
          ],
          "name": "stdout"
        }
      ]
    },
    {
      "cell_type": "code",
      "metadata": {
        "id": "G9MZ68Ero0sK",
        "colab": {
          "base_uri": "https://localhost:8080/",
          "height": 545
        },
        "outputId": "f2812aae-e213-4b4b-e4f3-f1a4cc2dee7c"
      },
      "source": [
        "display_nlp(doc)"
      ],
      "execution_count": null,
      "outputs": [
        {
          "output_type": "execute_result",
          "data": {
            "text/html": [
              "<div>\n",
              "<style scoped>\n",
              "    .dataframe tbody tr th:only-of-type {\n",
              "        vertical-align: middle;\n",
              "    }\n",
              "\n",
              "    .dataframe tbody tr th {\n",
              "        vertical-align: top;\n",
              "    }\n",
              "\n",
              "    .dataframe thead th {\n",
              "        text-align: right;\n",
              "    }\n",
              "</style>\n",
              "<table border=\"1\" class=\"dataframe\">\n",
              "  <thead>\n",
              "    <tr style=\"text-align: right;\">\n",
              "      <th></th>\n",
              "      <th>text</th>\n",
              "      <th>lemma_</th>\n",
              "      <th>tag_</th>\n",
              "      <th>pos_</th>\n",
              "      <th>dep_</th>\n",
              "      <th>ent_type_</th>\n",
              "      <th>ent_iob_</th>\n",
              "      <th>is_title</th>\n",
              "    </tr>\n",
              "  </thead>\n",
              "  <tbody>\n",
              "    <tr>\n",
              "      <th>0</th>\n",
              "      <td>The</td>\n",
              "      <td>the</td>\n",
              "      <td>DT</td>\n",
              "      <td>DET</td>\n",
              "      <td>det</td>\n",
              "      <td></td>\n",
              "      <td>O</td>\n",
              "      <td>True</td>\n",
              "    </tr>\n",
              "    <tr>\n",
              "      <th>1</th>\n",
              "      <td>building</td>\n",
              "      <td>building</td>\n",
              "      <td>NN</td>\n",
              "      <td>NOUN</td>\n",
              "      <td>compound</td>\n",
              "      <td></td>\n",
              "      <td>O</td>\n",
              "      <td>False</td>\n",
              "    </tr>\n",
              "    <tr>\n",
              "      <th>2</th>\n",
              "      <td>landlord</td>\n",
              "      <td>landlord</td>\n",
              "      <td>NN</td>\n",
              "      <td>NOUN</td>\n",
              "      <td>nsubjpass</td>\n",
              "      <td></td>\n",
              "      <td>O</td>\n",
              "      <td>False</td>\n",
              "    </tr>\n",
              "    <tr>\n",
              "      <th>3</th>\n",
              "      <td>shall</td>\n",
              "      <td>shall</td>\n",
              "      <td>MD</td>\n",
              "      <td>VERB</td>\n",
              "      <td>aux</td>\n",
              "      <td></td>\n",
              "      <td>O</td>\n",
              "      <td>False</td>\n",
              "    </tr>\n",
              "    <tr>\n",
              "      <th>4</th>\n",
              "      <td>not</td>\n",
              "      <td>not</td>\n",
              "      <td>RB</td>\n",
              "      <td>PART</td>\n",
              "      <td>neg</td>\n",
              "      <td></td>\n",
              "      <td>O</td>\n",
              "      <td>False</td>\n",
              "    </tr>\n",
              "    <tr>\n",
              "      <th>5</th>\n",
              "      <td>be</td>\n",
              "      <td>be</td>\n",
              "      <td>VB</td>\n",
              "      <td>AUX</td>\n",
              "      <td>auxpass</td>\n",
              "      <td></td>\n",
              "      <td>O</td>\n",
              "      <td>False</td>\n",
              "    </tr>\n",
              "    <tr>\n",
              "      <th>6</th>\n",
              "      <td>permitted</td>\n",
              "      <td>permit</td>\n",
              "      <td>VBN</td>\n",
              "      <td>VERB</td>\n",
              "      <td>ROOT</td>\n",
              "      <td></td>\n",
              "      <td>O</td>\n",
              "      <td>False</td>\n",
              "    </tr>\n",
              "    <tr>\n",
              "      <th>7</th>\n",
              "      <td>to</td>\n",
              "      <td>to</td>\n",
              "      <td>TO</td>\n",
              "      <td>PART</td>\n",
              "      <td>aux</td>\n",
              "      <td></td>\n",
              "      <td>O</td>\n",
              "      <td>False</td>\n",
              "    </tr>\n",
              "    <tr>\n",
              "      <th>8</th>\n",
              "      <td>do</td>\n",
              "      <td>do</td>\n",
              "      <td>VB</td>\n",
              "      <td>AUX</td>\n",
              "      <td>xcomp</td>\n",
              "      <td></td>\n",
              "      <td>O</td>\n",
              "      <td>False</td>\n",
              "    </tr>\n",
              "    <tr>\n",
              "      <th>9</th>\n",
              "      <td>a</td>\n",
              "      <td>a</td>\n",
              "      <td>DT</td>\n",
              "      <td>DET</td>\n",
              "      <td>det</td>\n",
              "      <td></td>\n",
              "      <td>O</td>\n",
              "      <td>False</td>\n",
              "    </tr>\n",
              "    <tr>\n",
              "      <th>10</th>\n",
              "      <td>construction</td>\n",
              "      <td>construction</td>\n",
              "      <td>NN</td>\n",
              "      <td>NOUN</td>\n",
              "      <td>dobj</td>\n",
              "      <td></td>\n",
              "      <td>O</td>\n",
              "      <td>False</td>\n",
              "    </tr>\n",
              "    <tr>\n",
              "      <th>11</th>\n",
              "      <td>in</td>\n",
              "      <td>in</td>\n",
              "      <td>IN</td>\n",
              "      <td>ADP</td>\n",
              "      <td>prep</td>\n",
              "      <td></td>\n",
              "      <td>O</td>\n",
              "      <td>False</td>\n",
              "    </tr>\n",
              "    <tr>\n",
              "      <th>12</th>\n",
              "      <td>the</td>\n",
              "      <td>the</td>\n",
              "      <td>DT</td>\n",
              "      <td>DET</td>\n",
              "      <td>det</td>\n",
              "      <td></td>\n",
              "      <td>O</td>\n",
              "      <td>False</td>\n",
              "    </tr>\n",
              "    <tr>\n",
              "      <th>13</th>\n",
              "      <td>rented</td>\n",
              "      <td>rent</td>\n",
              "      <td>VBN</td>\n",
              "      <td>VERB</td>\n",
              "      <td>amod</td>\n",
              "      <td></td>\n",
              "      <td>O</td>\n",
              "      <td>False</td>\n",
              "    </tr>\n",
              "    <tr>\n",
              "      <th>14</th>\n",
              "      <td>premises</td>\n",
              "      <td>premise</td>\n",
              "      <td>NNS</td>\n",
              "      <td>NOUN</td>\n",
              "      <td>pobj</td>\n",
              "      <td></td>\n",
              "      <td>O</td>\n",
              "      <td>False</td>\n",
              "    </tr>\n",
              "    <tr>\n",
              "      <th>15</th>\n",
              "      <td>.</td>\n",
              "      <td>.</td>\n",
              "      <td>.</td>\n",
              "      <td>PUNCT</td>\n",
              "      <td>punct</td>\n",
              "      <td></td>\n",
              "      <td>O</td>\n",
              "      <td>False</td>\n",
              "    </tr>\n",
              "  </tbody>\n",
              "</table>\n",
              "</div>"
            ],
            "text/plain": [
              "            text        lemma_ tag_  ... ent_type_ ent_iob_ is_title\n",
              "0            The           the   DT  ...                  O     True\n",
              "1       building      building   NN  ...                  O    False\n",
              "2       landlord      landlord   NN  ...                  O    False\n",
              "3          shall         shall   MD  ...                  O    False\n",
              "4            not           not   RB  ...                  O    False\n",
              "5             be            be   VB  ...                  O    False\n",
              "6      permitted        permit  VBN  ...                  O    False\n",
              "7             to            to   TO  ...                  O    False\n",
              "8             do            do   VB  ...                  O    False\n",
              "9              a             a   DT  ...                  O    False\n",
              "10  construction  construction   NN  ...                  O    False\n",
              "11            in            in   IN  ...                  O    False\n",
              "12           the           the   DT  ...                  O    False\n",
              "13        rented          rent  VBN  ...                  O    False\n",
              "14      premises       premise  NNS  ...                  O    False\n",
              "15             .             .    .  ...                  O    False\n",
              "\n",
              "[16 rows x 8 columns]"
            ]
          },
          "metadata": {
            "tags": []
          },
          "execution_count": 57
        }
      ]
    },
    {
      "cell_type": "code",
      "metadata": {
        "id": "L8EVD1Izw8rD"
      },
      "source": [
        ""
      ],
      "execution_count": null,
      "outputs": []
    }
  ]
}